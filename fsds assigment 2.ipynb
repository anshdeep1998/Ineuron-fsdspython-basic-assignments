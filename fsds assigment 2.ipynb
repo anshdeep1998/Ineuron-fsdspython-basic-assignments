{
 "cells": [
  {
   "cell_type": "raw",
   "id": "9f553f9e",
   "metadata": {},
   "source": [
    "1)\t2 values of Boolean type are true and false and we write them as True and False in python.\n"
   ]
  },
  {
   "cell_type": "raw",
   "id": "69c3e481",
   "metadata": {},
   "source": [
    "2)\t3 boolean operators in python are: and, or, not.\n"
   ]
  },
  {
   "cell_type": "raw",
   "id": "6761c80f",
   "metadata": {},
   "source": [
    "3)\t== Truth Table\n",
    "\n",
    "\n",
    "x\t==\ty\tReturns\n",
    "True\t==\tTrue\tTrue\n",
    "True\t==\tFalse\tFalse\n",
    "False\t==\tTrue\tFalse\n",
    "False\t==\tFalse\tTrue\n",
    "                   \n",
    "                   \n",
    "       AND Truth Table\n",
    "x\tand\ty\tReturns\n",
    "True\tand\tTrue\tTrue\n",
    "True\tand\tFalse\tFalse\n",
    "False\tand\tTrue\tFalse\n",
    "False\tand\tFalse\tFalse\n",
    "\n",
    "\n",
    "OR Truth Table\n",
    "x\tor\ty\tReturns\n",
    "True\tor\tTrue\tTrue\n",
    "True\tor\tFalse\tTrue\n",
    "False\tor\tTrue\tTrue\n",
    "False\tor\tFalse\tFalse\n",
    "\n",
    "\n",
    "NOT Truth Table\n",
    "not\tx\tReturns\n",
    "not\tTrue\tFalse"
   ]
  },
  {
   "cell_type": "code",
   "execution_count": 1,
   "id": "f66366c2",
   "metadata": {},
   "outputs": [
    {
     "data": {
      "text/plain": [
       "True"
      ]
     },
     "execution_count": 1,
     "metadata": {},
     "output_type": "execute_result"
    }
   ],
   "source": [
    "True\t==\tTrue"
   ]
  },
  {
   "cell_type": "code",
   "execution_count": 2,
   "id": "a46cfc3d",
   "metadata": {},
   "outputs": [
    {
     "data": {
      "text/plain": [
       "False"
      ]
     },
     "execution_count": 2,
     "metadata": {},
     "output_type": "execute_result"
    }
   ],
   "source": [
    "True\t==\tFalse"
   ]
  },
  {
   "cell_type": "code",
   "execution_count": 3,
   "id": "2bc79ba6",
   "metadata": {},
   "outputs": [
    {
     "data": {
      "text/plain": [
       "False"
      ]
     },
     "execution_count": 3,
     "metadata": {},
     "output_type": "execute_result"
    }
   ],
   "source": [
    "False\t==\tTrue"
   ]
  },
  {
   "cell_type": "code",
   "execution_count": 4,
   "id": "2160a001",
   "metadata": {},
   "outputs": [
    {
     "data": {
      "text/plain": [
       "True"
      ]
     },
     "execution_count": 4,
     "metadata": {},
     "output_type": "execute_result"
    }
   ],
   "source": [
    "False\t==\tFalse"
   ]
  },
  {
   "cell_type": "code",
   "execution_count": 5,
   "id": "080a8d6e",
   "metadata": {},
   "outputs": [],
   "source": [
    "#and so on as explained in table............."
   ]
  },
  {
   "cell_type": "raw",
   "id": "9c1fb957",
   "metadata": {},
   "source": [
    "4)\t(5>4) and (3==5) is False and False = False\n",
    "Not (5>4) is Not False =True\n",
    "(5>4) or (3==5) is False or False = False\n",
    "not((5>4) or (3==5)) is not False = True\n",
    "(True and True) and (True == False) is True and False = False\n",
    "(not False) or (not True) is True or False = True\n"
   ]
  },
  {
   "cell_type": "code",
   "execution_count": null,
   "id": "48788fd4",
   "metadata": {},
   "outputs": [],
   "source": []
  },
  {
   "cell_type": "raw",
   "id": "20f43f63",
   "metadata": {},
   "source": [
    " 5)   6 comparison operators are :\n",
    "          > i.e. greater than\n",
    "          < i.e. less than\n",
    "          >= i.e. greater than or equal to\n",
    "          <= i.e. less than or equal r\n",
    "          == i.e. equal to \n",
    "          != i.e. not eq"
   ]
  },
  {
   "cell_type": "raw",
   "id": "5fe812e8",
   "metadata": {},
   "source": [
    "6) = i.e. equal to is an assignment operator which is used to assign a value to any variable or an entity e.g. a=5 means 5 is stored in main memory with reference of “a” variable. Whereas == is a comparison operator which is used to compare value of a variable to any other value e.g. comparison operator used in if and else\n",
    "if a==5:\n",
    "    print(“yes”)\n",
    "else:\n",
    "    print(“No”)\n"
   ]
  },
  {
   "cell_type": "code",
   "execution_count": 12,
   "id": "840e80c3",
   "metadata": {},
   "outputs": [
    {
     "name": "stdout",
     "output_type": "stream",
     "text": [
      "5\n"
     ]
    }
   ],
   "source": [
    "a=5\n",
    "\n",
    "print(a)"
   ]
  },
  {
   "cell_type": "code",
   "execution_count": 13,
   "id": "3a6a3077",
   "metadata": {},
   "outputs": [
    {
     "name": "stdout",
     "output_type": "stream",
     "text": [
      "yes\n"
     ]
    }
   ],
   "source": [
    "if a==5:\n",
    "    print(\"yes\")\n",
    "else:\n",
    "    print(\"No\")"
   ]
  },
  {
   "cell_type": "raw",
   "id": "dc91a4b8",
   "metadata": {},
   "source": [
    "7) \n",
    "spam = 0\n",
    "\n",
    "i) Block-1\n",
    "if spam == 10:\n",
    "print(’eggs’)\n",
    "\n",
    "ii) Block-2\n",
    "if spam > 5:\n",
    "print(“bacon”)\n",
    "\n",
    "iii) Block-3\n",
    "else:\n",
    "print(“ham”)\n",
    "print(“spam”)\n",
    "print(“spam”)\n"
   ]
  },
  {
   "cell_type": "code",
   "execution_count": 14,
   "id": "540d2850",
   "metadata": {},
   "outputs": [
    {
     "name": "stdout",
     "output_type": "stream",
     "text": [
      "Ener spam: 1\n",
      "Hello\n"
     ]
    }
   ],
   "source": [
    "# 8)\n",
    "spam = int(input(\"Ener spam: \"))\n",
    "\n",
    "if spam==1:\n",
    "    print(\"Hello\")\n",
    "\n",
    "elif spam==2:\n",
    "    print(\"Howdy\")\n",
    "else:\n",
    "    print(\"Greetings!\")"
   ]
  },
  {
   "cell_type": "code",
   "execution_count": null,
   "id": "3bfccdf9",
   "metadata": {},
   "outputs": [],
   "source": []
  },
  {
   "cell_type": "raw",
   "id": "68d8fa43",
   "metadata": {},
   "source": [
    "9)Ctrl + C  is the command required in this case"
   ]
  },
  {
   "cell_type": "code",
   "execution_count": null,
   "id": "ee320795",
   "metadata": {},
   "outputs": [],
   "source": []
  },
  {
   "cell_type": "raw",
   "id": "5d6a8f79",
   "metadata": {},
   "source": [
    "10) break keyword breaks the whole loop whenever some condition given accordingly and continue just brings the control back to beginning of loop"
   ]
  },
  {
   "cell_type": "code",
   "execution_count": 22,
   "id": "69f6d027",
   "metadata": {},
   "outputs": [
    {
     "name": "stdout",
     "output_type": "stream",
     "text": [
      "Enter no: 4\n",
      "Enter no: 5\n",
      "Enter no: 6\n"
     ]
    }
   ],
   "source": [
    "#e.g.\n",
    "\n",
    "\n",
    "for i in range(5):\n",
    "    a=int(input(\"Enter no: \"))\n",
    "    \n",
    "    if(a==5):\n",
    "        continue\n",
    "    if(a==6):\n",
    "        break"
   ]
  },
  {
   "cell_type": "code",
   "execution_count": 26,
   "id": "361d247f",
   "metadata": {},
   "outputs": [
    {
     "name": "stdout",
     "output_type": "stream",
     "text": [
      "0\n",
      "1\n",
      "2\n",
      "3\n",
      "4\n",
      "5\n",
      "6\n",
      "7\n",
      "8\n",
      "9\n"
     ]
    }
   ],
   "source": [
    "for i in range(10): #gives values 0 to 9\n",
    "    print(i)\n",
    "\n",
    "#Basically all 3 are same as range(10) and range(0,10) mean the same and range(0,10,1) means just 1 step in each iteration"
   ]
  },
  {
   "cell_type": "code",
   "execution_count": null,
   "id": "31c48ce3",
   "metadata": {},
   "outputs": [],
   "source": []
  },
  {
   "cell_type": "raw",
   "id": "0c52cb58",
   "metadata": {},
   "source": [
    "12)"
   ]
  },
  {
   "cell_type": "code",
   "execution_count": 28,
   "id": "28fd6f71",
   "metadata": {},
   "outputs": [
    {
     "name": "stdout",
     "output_type": "stream",
     "text": [
      "1\n",
      "2\n",
      "3\n",
      "4\n",
      "5\n",
      "6\n",
      "7\n",
      "8\n",
      "9\n",
      "10\n"
     ]
    }
   ],
   "source": [
    "for i in range(1,11):\n",
    "    print(i)"
   ]
  },
  {
   "cell_type": "code",
   "execution_count": 31,
   "id": "0c743d62",
   "metadata": {},
   "outputs": [
    {
     "name": "stdout",
     "output_type": "stream",
     "text": [
      "1\n",
      "2\n",
      "3\n",
      "4\n",
      "5\n",
      "6\n",
      "7\n",
      "8\n",
      "9\n",
      "10\n"
     ]
    }
   ],
   "source": [
    "i = 1\n",
    "while(i<=10):\n",
    "    print(i)\n",
    "    i += 1"
   ]
  },
  {
   "cell_type": "raw",
   "id": "6b650f3a",
   "metadata": {},
   "source": [
    "13) from spam import bacon\n",
    "\n",
    "or the other way is :\n",
    "\n",
    "import spam\n",
    "\n",
    "bacon.spam()"
   ]
  },
  {
   "cell_type": "code",
   "execution_count": null,
   "id": "8d40d9f1",
   "metadata": {},
   "outputs": [],
   "source": []
  },
  {
   "cell_type": "code",
   "execution_count": null,
   "id": "a45a7487",
   "metadata": {},
   "outputs": [],
   "source": []
  },
  {
   "cell_type": "code",
   "execution_count": null,
   "id": "cd975a59",
   "metadata": {},
   "outputs": [],
   "source": []
  }
 ],
 "metadata": {
  "kernelspec": {
   "display_name": "Python 3 (ipykernel)",
   "language": "python",
   "name": "python3"
  },
  "language_info": {
   "codemirror_mode": {
    "name": "ipython",
    "version": 3
   },
   "file_extension": ".py",
   "mimetype": "text/x-python",
   "name": "python",
   "nbconvert_exporter": "python",
   "pygments_lexer": "ipython3",
   "version": "3.9.12"
  }
 },
 "nbformat": 4,
 "nbformat_minor": 5
}

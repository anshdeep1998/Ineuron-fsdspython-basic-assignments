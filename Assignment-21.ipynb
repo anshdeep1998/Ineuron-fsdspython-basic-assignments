{
 "cells": [
  {
   "cell_type": "code",
   "execution_count": 32,
   "id": "d211ae6b",
   "metadata": {},
   "outputs": [],
   "source": [
    "from datetime import date,timedelta"
   ]
  },
  {
   "cell_type": "code",
   "execution_count": 2,
   "id": "50374c3f",
   "metadata": {},
   "outputs": [
    {
     "data": {
      "text/plain": [
       "datetime.date(2022, 10, 25)"
      ]
     },
     "execution_count": 2,
     "metadata": {},
     "output_type": "execute_result"
    }
   ],
   "source": [
    "today = date.today()\n",
    "today"
   ]
  },
  {
   "cell_type": "code",
   "execution_count": 3,
   "id": "002e4681",
   "metadata": {},
   "outputs": [],
   "source": [
    "#Q-1\n",
    "f = open('today.txt','w')\n",
    "f.write(str(today))\n",
    "f.close()"
   ]
  },
  {
   "cell_type": "code",
   "execution_count": 4,
   "id": "00aaf293",
   "metadata": {},
   "outputs": [
    {
     "data": {
      "text/plain": [
       "'2022-10-25'"
      ]
     },
     "execution_count": 4,
     "metadata": {},
     "output_type": "execute_result"
    }
   ],
   "source": [
    "#Q-2\n",
    "f = open('today.txt','r')\n",
    "f.read()"
   ]
  },
  {
   "cell_type": "code",
   "execution_count": 6,
   "id": "71d522ab",
   "metadata": {},
   "outputs": [
    {
     "data": {
      "text/plain": [
       "25"
      ]
     },
     "execution_count": 6,
     "metadata": {},
     "output_type": "execute_result"
    }
   ],
   "source": [
    "#Q-3\n",
    "today.day"
   ]
  },
  {
   "cell_type": "code",
   "execution_count": 7,
   "id": "a65b020a",
   "metadata": {},
   "outputs": [
    {
     "data": {
      "text/plain": [
       "10"
      ]
     },
     "execution_count": 7,
     "metadata": {},
     "output_type": "execute_result"
    }
   ],
   "source": [
    "today.month"
   ]
  },
  {
   "cell_type": "code",
   "execution_count": 8,
   "id": "6e33f803",
   "metadata": {},
   "outputs": [
    {
     "data": {
      "text/plain": [
       "2022"
      ]
     },
     "execution_count": 8,
     "metadata": {},
     "output_type": "execute_result"
    }
   ],
   "source": [
    "today.year"
   ]
  },
  {
   "cell_type": "code",
   "execution_count": 9,
   "id": "3b0a636f",
   "metadata": {},
   "outputs": [],
   "source": [
    "import os"
   ]
  },
  {
   "cell_type": "code",
   "execution_count": 13,
   "id": "5c81448b",
   "metadata": {},
   "outputs": [
    {
     "data": {
      "text/plain": [
       "['.ipynb_checkpoints',\n",
       " 'assigment-18',\n",
       " 'assigment-18.zip',\n",
       " 'assignment - 10.docx',\n",
       " 'Assignment-20.ipynb',\n",
       " 'assignment-7.docx',\n",
       " 'assignment-8.docx',\n",
       " 'fsds assigment - 11.docx',\n",
       " 'fsds assigment 2.ipynb',\n",
       " 'fsds assigment-13.docx',\n",
       " 'fsds assigment-3.docx',\n",
       " 'fsds assignment-16.ipynb',\n",
       " 'fsds assignment-17.ipynb',\n",
       " 'fsds assignment-9.docx',\n",
       " 'fsfs assignment-15.ipynb',\n",
       " 'ineuron fsds assignment-1.docx',\n",
       " 'Ineuron fsds assignment-4.docx',\n",
       " 'ineuron fsds python assignment-5.docx',\n",
       " 'ineuron fsds python assignment-6.docx',\n",
       " 'today.txt']"
      ]
     },
     "execution_count": 13,
     "metadata": {},
     "output_type": "execute_result"
    }
   ],
   "source": [
    "#Q-4\n",
    "list_offiles = os.listdir()\n",
    "list_offiles"
   ]
  },
  {
   "cell_type": "code",
   "execution_count": null,
   "id": "b87b56d5",
   "metadata": {
    "collapsed": true
   },
   "outputs": [],
   "source": [
    "#Q-5\n",
    "import sys\n",
    " \n",
    "# setting path\n",
    "sys.path.append('../parentdirectory')\n",
    " \n",
    "# importing\n",
    "from parentdirectory import *\n",
    " \n",
    "os.listdir()"
   ]
  },
  {
   "cell_type": "code",
   "execution_count": null,
   "id": "8dfa951d",
   "metadata": {},
   "outputs": [],
   "source": []
  },
  {
   "cell_type": "code",
   "execution_count": null,
   "id": "884e71e0",
   "metadata": {},
   "outputs": [],
   "source": []
  },
  {
   "cell_type": "code",
   "execution_count": 39,
   "id": "e1804d6b",
   "metadata": {},
   "outputs": [
    {
     "data": {
      "text/plain": [
       "datetime.date(1998, 11, 1)"
      ]
     },
     "execution_count": 39,
     "metadata": {},
     "output_type": "execute_result"
    }
   ],
   "source": [
    "#Q-7 \n",
    "dob = date(1998, 11, 1)\n",
    "dob"
   ]
  },
  {
   "cell_type": "code",
   "execution_count": null,
   "id": "2710b158",
   "metadata": {},
   "outputs": [],
   "source": []
  },
  {
   "cell_type": "code",
   "execution_count": 40,
   "id": "dd7e71dd",
   "metadata": {},
   "outputs": [
    {
     "data": {
      "text/plain": [
       "'Sunday'"
      ]
     },
     "execution_count": 40,
     "metadata": {},
     "output_type": "execute_result"
    }
   ],
   "source": [
    "#Q-8\n",
    "import pandas as pd\n",
    "dob = pd.Timestamp(dob)\n",
    "dob.day_name()"
   ]
  },
  {
   "cell_type": "code",
   "execution_count": 41,
   "id": "db897f37",
   "metadata": {},
   "outputs": [
    {
     "data": {
      "text/plain": [
       "Timestamp('2026-03-19 00:00:00')"
      ]
     },
     "execution_count": 41,
     "metadata": {},
     "output_type": "execute_result"
    }
   ],
   "source": [
    "#Q-9\n",
    "dob +timedelta(days=10000) #I will be 10000 days old on 19th march 2026"
   ]
  },
  {
   "cell_type": "code",
   "execution_count": null,
   "id": "075d30b2",
   "metadata": {},
   "outputs": [],
   "source": []
  },
  {
   "cell_type": "code",
   "execution_count": null,
   "id": "141edf6a",
   "metadata": {},
   "outputs": [],
   "source": []
  }
 ],
 "metadata": {
  "kernelspec": {
   "display_name": "Python 3 (ipykernel)",
   "language": "python",
   "name": "python3"
  },
  "language_info": {
   "codemirror_mode": {
    "name": "ipython",
    "version": 3
   },
   "file_extension": ".py",
   "mimetype": "text/x-python",
   "name": "python",
   "nbconvert_exporter": "python",
   "pygments_lexer": "ipython3",
   "version": "3.9.12"
  }
 },
 "nbformat": 4,
 "nbformat_minor": 5
}

{
 "cells": [
  {
   "cell_type": "code",
   "execution_count": 20,
   "id": "b135a621",
   "metadata": {},
   "outputs": [
    {
     "name": "stdout",
     "output_type": "stream",
     "text": [
      "INEURON\n"
     ]
    }
   ],
   "source": [
    "#Q-1 INEURON printed bcoz X is the global variable and it's scope is there inside a function also\n",
    "X = \"INEURON\"\n",
    "def func():\n",
    "    print(X)\n",
    "func()#"
   ]
  },
  {
   "cell_type": "code",
   "execution_count": 21,
   "id": "ee2dd47b",
   "metadata": {},
   "outputs": [],
   "source": [
    "def func():\n",
    "    X = \"NI!\"\n"
   ]
  },
  {
   "cell_type": "code",
   "execution_count": 22,
   "id": "b96fa830",
   "metadata": {},
   "outputs": [
    {
     "name": "stdout",
     "output_type": "stream",
     "text": [
      "INEURON\n"
     ]
    }
   ],
   "source": [
    "#Q-2\n",
    "func()\n",
    "print(X)#bcoz X = 'NI!' is local and not global and it's scope only accessible inside a function and not beyond that."
   ]
  },
  {
   "cell_type": "code",
   "execution_count": 23,
   "id": "eda03888",
   "metadata": {},
   "outputs": [],
   "source": [
    "def func():\n",
    "    X = \"NI!\"\n",
    "    print(X)\n"
   ]
  },
  {
   "cell_type": "code",
   "execution_count": 24,
   "id": "b45378b6",
   "metadata": {},
   "outputs": [
    {
     "name": "stdout",
     "output_type": "stream",
     "text": [
      "NI!\n"
     ]
    }
   ],
   "source": [
    "#Q-3\n",
    "func()#inside output of function called here"
   ]
  },
  {
   "cell_type": "code",
   "execution_count": 25,
   "id": "eb849e3e",
   "metadata": {},
   "outputs": [
    {
     "name": "stdout",
     "output_type": "stream",
     "text": [
      "INEURON\n"
     ]
    }
   ],
   "source": [
    "print(X)#This is as per the global scope"
   ]
  },
  {
   "cell_type": "code",
   "execution_count": null,
   "id": "7bf44f80",
   "metadata": {},
   "outputs": [],
   "source": []
  },
  {
   "cell_type": "code",
   "execution_count": null,
   "id": "77cf41e4",
   "metadata": {},
   "outputs": [],
   "source": []
  },
  {
   "cell_type": "code",
   "execution_count": 26,
   "id": "d53bf18d",
   "metadata": {},
   "outputs": [],
   "source": [
    "#Q-4\n",
    "def func():\n",
    "    global X\n",
    "    X = \"NI!\"\n",
    "    print(X)"
   ]
  },
  {
   "cell_type": "code",
   "execution_count": 29,
   "id": "7aebf536",
   "metadata": {},
   "outputs": [
    {
     "name": "stdout",
     "output_type": "stream",
     "text": [
      "NI!\n"
     ]
    }
   ],
   "source": [
    "func() #as explained above"
   ]
  },
  {
   "cell_type": "code",
   "execution_count": 30,
   "id": "708ac6a5",
   "metadata": {},
   "outputs": [
    {
     "name": "stdout",
     "output_type": "stream",
     "text": [
      "NI!\n"
     ]
    }
   ],
   "source": [
    "print(X) #Now since X inside func() was declared as global, it's scope becomes accessible everywhere even outsise function"
   ]
  },
  {
   "cell_type": "code",
   "execution_count": null,
   "id": "15e636b2",
   "metadata": {},
   "outputs": [],
   "source": []
  },
  {
   "cell_type": "code",
   "execution_count": 31,
   "id": "c6d7185c",
   "metadata": {},
   "outputs": [],
   "source": [
    "#Q-5\n",
    "X = 'ineuron'\n",
    "def func():\n",
    "    X = 'NI'\n",
    "    \n",
    "def nested():\n",
    "    print(X)"
   ]
  },
  {
   "cell_type": "code",
   "execution_count": 36,
   "id": "798b6b8d",
   "metadata": {},
   "outputs": [
    {
     "name": "stdout",
     "output_type": "stream",
     "text": [
      "ineuron\n"
     ]
    }
   ],
   "source": [
    "nested()#only global variable x = 'ineuron' printed bcoz it was declared outside function and nested() function\n",
    "        #inside it doesen't have any declaration of X"
   ]
  },
  {
   "cell_type": "code",
   "execution_count": 37,
   "id": "70ac76dc",
   "metadata": {},
   "outputs": [
    {
     "data": {
      "text/plain": [
       "'ineuron'"
      ]
     },
     "execution_count": 37,
     "metadata": {},
     "output_type": "execute_result"
    }
   ],
   "source": [
    "func()#even after re-assignment of X in func(), X printed as ineuron bcoz X='NI' is still local inside function and no\n",
    "X     #scope beyond that."
   ]
  },
  {
   "cell_type": "code",
   "execution_count": null,
   "id": "63217542",
   "metadata": {},
   "outputs": [],
   "source": []
  },
  {
   "cell_type": "code",
   "execution_count": 46,
   "id": "db036dec",
   "metadata": {},
   "outputs": [],
   "source": [
    "#Q-6\n",
    "def func():\n",
    "    X='NI'\n",
    "def nested():\n",
    "    global X\n",
    "    X = 'Spam'\n"
   ]
  },
  {
   "cell_type": "code",
   "execution_count": 50,
   "id": "e030ab5a",
   "metadata": {},
   "outputs": [
    {
     "name": "stdout",
     "output_type": "stream",
     "text": [
      "Spam\n"
     ]
    }
   ],
   "source": [
    "nested()\n",
    "print(X)#globally X becomes Spam and printed so"
   ]
  },
  {
   "cell_type": "code",
   "execution_count": 51,
   "id": "1a03d006",
   "metadata": {},
   "outputs": [],
   "source": [
    "func()#Only local assignment of X=NI so no change beyond that."
   ]
  },
  {
   "cell_type": "code",
   "execution_count": 52,
   "id": "c407134b",
   "metadata": {},
   "outputs": [
    {
     "name": "stdout",
     "output_type": "stream",
     "text": [
      "Spam\n"
     ]
    }
   ],
   "source": [
    "nested()\n",
    "print(X)"
   ]
  },
  {
   "cell_type": "code",
   "execution_count": null,
   "id": "e9d5c11a",
   "metadata": {},
   "outputs": [],
   "source": []
  }
 ],
 "metadata": {
  "kernelspec": {
   "display_name": "Python 3 (ipykernel)",
   "language": "python",
   "name": "python3"
  },
  "language_info": {
   "codemirror_mode": {
    "name": "ipython",
    "version": 3
   },
   "file_extension": ".py",
   "mimetype": "text/x-python",
   "name": "python",
   "nbconvert_exporter": "python",
   "pygments_lexer": "ipython3",
   "version": "3.9.12"
  }
 },
 "nbformat": 4,
 "nbformat_minor": 5
}

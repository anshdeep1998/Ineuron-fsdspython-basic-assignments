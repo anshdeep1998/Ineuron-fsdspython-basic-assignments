{
 "cells": [
  {
   "cell_type": "code",
   "execution_count": 1,
   "id": "2df95c52",
   "metadata": {},
   "outputs": [],
   "source": [
    "#Q-1\n",
    "def func(a, b=6, c=8):\n",
    "    print(a, b, c)"
   ]
  },
  {
   "cell_type": "code",
   "execution_count": 3,
   "id": "cf9792df",
   "metadata": {},
   "outputs": [
    {
     "name": "stdout",
     "output_type": "stream",
     "text": [
      "1 2 8\n"
     ]
    }
   ],
   "source": [
    "func(1, 2) #b and c are by default initialized arguements and they are 6 and 8 only when not explicitly initialized \n",
    "           #when func() is being called.\n",
    "    #Here since b is passed as 2 while being called, b is re-assigned a value 2 in the unique address of main memory."
   ]
  },
  {
   "cell_type": "code",
   "execution_count": null,
   "id": "48a0fcb0",
   "metadata": {},
   "outputs": [],
   "source": []
  },
  {
   "cell_type": "code",
   "execution_count": 4,
   "id": "fa3c30c4",
   "metadata": {},
   "outputs": [],
   "source": [
    "#Q-2\n",
    "def func(a, b, c=5):\n",
    "    print(a, b, c)"
   ]
  },
  {
   "cell_type": "code",
   "execution_count": 6,
   "id": "282ffd93",
   "metadata": {},
   "outputs": [
    {
     "name": "stdout",
     "output_type": "stream",
     "text": [
      "1 2 3\n"
     ]
    }
   ],
   "source": [
    "func(1, c=3, b=2) #for same reasons as Q-1, c is re-assigned as 3"
   ]
  },
  {
   "cell_type": "code",
   "execution_count": 10,
   "id": "7a3f7314",
   "metadata": {},
   "outputs": [],
   "source": [
    "#Q-3\n",
    "def func(a, *pargs):\n",
    "    print(a, pargs)"
   ]
  },
  {
   "cell_type": "code",
   "execution_count": 11,
   "id": "c7d244bb",
   "metadata": {},
   "outputs": [
    {
     "name": "stdout",
     "output_type": "stream",
     "text": [
      "1 (2, 3)\n"
     ]
    }
   ],
   "source": [
    "func(1, 2, 3) #single arguement a is passed as 1 and *pargs represents a collection/iterable arguements\n",
    "              # so other than a, whatever elements are there are assigned to single variable pargs"
   ]
  },
  {
   "cell_type": "code",
   "execution_count": null,
   "id": "64872c62",
   "metadata": {},
   "outputs": [],
   "source": []
  },
  {
   "cell_type": "code",
   "execution_count": 12,
   "id": "b54934b5",
   "metadata": {},
   "outputs": [],
   "source": [
    "#Q-4\n",
    "def func(a, **kargs):\n",
    "    print(a, kargs)"
   ]
  },
  {
   "cell_type": "code",
   "execution_count": 15,
   "id": "f911d865",
   "metadata": {},
   "outputs": [
    {
     "name": "stdout",
     "output_type": "stream",
     "text": [
      "1 {'c': 3, 'b': 2}\n"
     ]
    }
   ],
   "source": [
    "func(a=1, c=3, b=2)# a as explained in Q-3 is a single variable taking a single element\n",
    "                   # but **kargs represents keyword arguements so c and b represent keys and 3 and 2 represent values\n",
    "                  #spo keyword arguements are stored as a dictionary and assigned to kargs."
   ]
  },
  {
   "cell_type": "code",
   "execution_count": null,
   "id": "d0287823",
   "metadata": {},
   "outputs": [],
   "source": []
  },
  {
   "cell_type": "code",
   "execution_count": 26,
   "id": "4da0ed65",
   "metadata": {},
   "outputs": [],
   "source": [
    "#Q-5\n",
    "def func(a, b, c=8, d=5):\n",
    "    print(a, b, c, d)\n"
   ]
  },
  {
   "cell_type": "code",
   "execution_count": 27,
   "id": "5f25e552",
   "metadata": {},
   "outputs": [
    {
     "name": "stdout",
     "output_type": "stream",
     "text": [
      "1 5 6 5\n"
     ]
    }
   ],
   "source": [
    "func(1, *(5, 6)) #a=1, *(5,6) is an iterable and assigned to b and c with b=5 and c=6 and d by default =5\n",
    "#so 1,5,6,5"
   ]
  },
  {
   "cell_type": "code",
   "execution_count": 28,
   "id": "b5f89bef",
   "metadata": {},
   "outputs": [],
   "source": [
    "#Q-6\n",
    "def func(a, b, c):\n",
    "    a = 2 \n",
    "    b[0] = 'x'\n",
    "    c['a'] = 'y'"
   ]
  },
  {
   "cell_type": "code",
   "execution_count": 29,
   "id": "f297d304",
   "metadata": {},
   "outputs": [],
   "source": [
    "l=1\n",
    "m=[1]\n",
    "n={'a':0}"
   ]
  },
  {
   "cell_type": "code",
   "execution_count": 30,
   "id": "cdbbc6e9",
   "metadata": {},
   "outputs": [],
   "source": [
    "func(l,m,n)"
   ]
  },
  {
   "cell_type": "code",
   "execution_count": 32,
   "id": "275c9bc6",
   "metadata": {},
   "outputs": [
    {
     "data": {
      "text/plain": [
       "(1, ['x'], {'a': 'y'})"
      ]
     },
     "execution_count": 32,
     "metadata": {},
     "output_type": "execute_result"
    }
   ],
   "source": [
    "l,m,n #l,m,n have been assigned values above so irresepective of any else assignment, l,m,n form a tuple."
   ]
  },
  {
   "cell_type": "code",
   "execution_count": null,
   "id": "ec0e5884",
   "metadata": {},
   "outputs": [],
   "source": []
  }
 ],
 "metadata": {
  "kernelspec": {
   "display_name": "Python 3 (ipykernel)",
   "language": "python",
   "name": "python3"
  },
  "language_info": {
   "codemirror_mode": {
    "name": "ipython",
    "version": 3
   },
   "file_extension": ".py",
   "mimetype": "text/x-python",
   "name": "python",
   "nbconvert_exporter": "python",
   "pygments_lexer": "ipython3",
   "version": "3.9.12"
  }
 },
 "nbformat": 4,
 "nbformat_minor": 5
}
